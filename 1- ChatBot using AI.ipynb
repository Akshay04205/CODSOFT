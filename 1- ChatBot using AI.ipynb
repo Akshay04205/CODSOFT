{
 "cells": [
  {
   "cell_type": "code",
   "execution_count": 6,
   "id": "d6adeccd-73f6-4c24-ab6f-4554408817a8",
   "metadata": {},
   "outputs": [
    {
     "name": "stdout",
     "output_type": "stream",
     "text": [
      "Chatbot: Hi! I am your friendly chatbot. Type 'exit' to end the chat anytime.\n"
     ]
    },
    {
     "name": "stdin",
     "output_type": "stream",
     "text": [
      "You:  hello\n"
     ]
    },
    {
     "name": "stdout",
     "output_type": "stream",
     "text": [
      "Chatbot: Hello there! It's great to chat with you. How can I assist you today?\n"
     ]
    },
    {
     "name": "stdin",
     "output_type": "stream",
     "text": [
      "You:  what is your name\n"
     ]
    },
    {
     "name": "stdout",
     "output_type": "stream",
     "text": [
      "Chatbot: My name is Chatbot, and I was designed by you to assist with basic queries.\n"
     ]
    },
    {
     "name": "stdin",
     "output_type": "stream",
     "text": [
      "You:  can you help me\n"
     ]
    },
    {
     "name": "stdout",
     "output_type": "stream",
     "text": [
      "Chatbot: Absolutely! Let me know specifically what you need assistance with, and I’ll do my best to help.\n"
     ]
    },
    {
     "name": "stdin",
     "output_type": "stream",
     "text": [
      "You:  how are you\n"
     ]
    },
    {
     "name": "stdout",
     "output_type": "stream",
     "text": [
      "Chatbot: I’m just a program, so I don’t have feelings, but I’m here to help you!\n"
     ]
    },
    {
     "name": "stdin",
     "output_type": "stream",
     "text": [
      "You:  ok so tell me a joke\n"
     ]
    },
    {
     "name": "stdout",
     "output_type": "stream",
     "text": [
      "Chatbot: Why don’t skeletons fight each other? Because they don’t have the guts!\n"
     ]
    },
    {
     "name": "stdin",
     "output_type": "stream",
     "text": [
      "You:  ha ha ha that's nice\n"
     ]
    },
    {
     "name": "stdout",
     "output_type": "stream",
     "text": [
      "Chatbot: Thank you\n"
     ]
    },
    {
     "name": "stdin",
     "output_type": "stream",
     "text": [
      "You:  exit\n"
     ]
    },
    {
     "name": "stdout",
     "output_type": "stream",
     "text": [
      "Chatbot: Goodbye! Have a great day ahead!\n"
     ]
    }
   ],
   "source": [
    "def chatbot():\n",
    "    print(\"Chatbot: Hi! I am your friendly chatbot. Type 'exit' to end the chat anytime.\")\n",
    "    while True:\n",
    "        user_input = input(\"You: \").lower()\n",
    "        \n",
    "        if user_input == \"exit\":\n",
    "            print(\"Chatbot: Goodbye! Have a great day ahead!\")\n",
    "            break\n",
    "        elif \"hello\" in user_input or \"hi\" in user_input:\n",
    "            print(\"Chatbot: Hello there! It's great to chat with you. How can I assist you today?\")\n",
    "        elif \"name\" in user_input:\n",
    "            print(\"Chatbot: My name is Chatbot, and I was designed by you to assist with basic queries.\")\n",
    "        elif \"weather\" in user_input:\n",
    "            print(\"Chatbot: I’m not connected to weather services right now, but I hope the weather is pleasant where you are!\")\n",
    "        elif \"help\" in user_input:\n",
    "            print(\"Chatbot: Absolutely! Let me know specifically what you need assistance with, and I’ll do my best to help.\")\n",
    "        elif \"how are you\" in user_input:\n",
    "            print(\"Chatbot: I’m just a program, so I don’t have feelings, but I’m here to help you!\")\n",
    "        elif \"joke\" in user_input:\n",
    "            print(\"Chatbot: Why don’t skeletons fight each other? Because they don’t have the guts!\")\n",
    "        elif \"time\" in user_input:\n",
    "            print(\"Chatbot: I don’t have a clock, but it’s always a good time to chat!\")\n",
    "        elif \"food\" in user_input:\n",
    "            print(\"Chatbot: I can’t eat, but pizza and ice cream are crowd favorites!\")\n",
    "        elif \"love\" in user_input:\n",
    "            print(\"Chatbot: Love is a beautiful thing, isn’t it?\")\n",
    "        elif \"study\" in user_input:\n",
    "            print(\"Chatbot: Remember to take regular breaks and stay hydrated while studying!\")\n",
    "        elif \"music\" in user_input:\n",
    "            print(\"Chatbot: I don’t listen to music, but I’ve heard that it’s good for the soul!\")\n",
    "        elif \"sports\" in user_input:\n",
    "            print(\"Chatbot: Sports are a great way to stay active and have fun. Do you have a favorite one?\")\n",
    "        elif \"nice\" in user_input:\n",
    "            print(\"Chatbot: Thank you\")\n",
    "        else:\n",
    "            print(\"Chatbot: I’m sorry, I didn’t quite understand that. Could you rephrase or ask something else?\")\n",
    "\n",
    "# Run the chatbot\n",
    "chatbot()\n"
   ]
  },
  {
   "cell_type": "code",
   "execution_count": null,
   "id": "6583a194-86b9-4a29-be93-048b20f94f13",
   "metadata": {},
   "outputs": [],
   "source": []
  }
 ],
 "metadata": {
  "kernelspec": {
   "display_name": "Python 3 (ipykernel)",
   "language": "python",
   "name": "python3"
  },
  "language_info": {
   "codemirror_mode": {
    "name": "ipython",
    "version": 3
   },
   "file_extension": ".py",
   "mimetype": "text/x-python",
   "name": "python",
   "nbconvert_exporter": "python",
   "pygments_lexer": "ipython3",
   "version": "3.12.4"
  }
 },
 "nbformat": 4,
 "nbformat_minor": 5
}
