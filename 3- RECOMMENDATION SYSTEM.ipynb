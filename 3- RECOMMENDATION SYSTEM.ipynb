{
 "cells": [
  {
   "cell_type": "code",
   "execution_count": 2,
   "id": "b7bc72e1-5373-4479-84b8-81c55ccd3136",
   "metadata": {},
   "outputs": [
    {
     "name": "stdout",
     "output_type": "stream",
     "text": [
      "Requirement already satisfied: pandas in c:\\users\\dhima\\anaconda3\\lib\\site-packages (2.2.2)\n",
      "Requirement already satisfied: scikit-learn in c:\\users\\dhima\\anaconda3\\lib\\site-packages (1.4.2)\n",
      "Requirement already satisfied: numpy>=1.26.0 in c:\\users\\dhima\\anaconda3\\lib\\site-packages (from pandas) (1.26.4)\n",
      "Requirement already satisfied: python-dateutil>=2.8.2 in c:\\users\\dhima\\anaconda3\\lib\\site-packages (from pandas) (2.9.0.post0)\n",
      "Requirement already satisfied: pytz>=2020.1 in c:\\users\\dhima\\anaconda3\\lib\\site-packages (from pandas) (2024.1)\n",
      "Requirement already satisfied: tzdata>=2022.7 in c:\\users\\dhima\\anaconda3\\lib\\site-packages (from pandas) (2023.3)\n",
      "Requirement already satisfied: scipy>=1.6.0 in c:\\users\\dhima\\anaconda3\\lib\\site-packages (from scikit-learn) (1.13.1)\n",
      "Requirement already satisfied: joblib>=1.2.0 in c:\\users\\dhima\\anaconda3\\lib\\site-packages (from scikit-learn) (1.4.2)\n",
      "Requirement already satisfied: threadpoolctl>=2.0.0 in c:\\users\\dhima\\anaconda3\\lib\\site-packages (from scikit-learn) (2.2.0)\n",
      "Requirement already satisfied: six>=1.5 in c:\\users\\dhima\\anaconda3\\lib\\site-packages (from python-dateutil>=2.8.2->pandas) (1.16.0)\n",
      "Note: you may need to restart the kernel to use updated packages.\n"
     ]
    }
   ],
   "source": [
    "pip install pandas scikit-learn"
   ]
  },
  {
   "cell_type": "code",
   "execution_count": 2,
   "id": "66eb39e3-4d15-488e-bf28-75e24ecdd738",
   "metadata": {},
   "outputs": [
    {
     "name": "stdout",
     "output_type": "stream",
     "text": [
      "Recommendations for Alice:\n",
      "Item\n",
      "Book        2.628124\n",
      "Pen         1.345745\n",
      "Notebook    1.241222\n",
      "dtype: object\n"
     ]
    }
   ],
   "source": [
    "import pandas as pd\n",
    "from sklearn.metrics.pairwise import cosine_similarity\n",
    "\n",
    "# Sample data for user preferences\n",
    "data = {\n",
    "    'User': ['Alice', 'Alice', 'Alice', 'Bob', 'Bob', 'Bob', 'Charlie', 'Charlie', 'Charlie'],\n",
    "    'Item': ['Notebook', 'Pen', 'Book', 'Notebook', 'Book', 'Eraser', 'Pen', 'Book', 'Eraser'],\n",
    "    'Rating': [5, 4, 3, 4, 5, 2, 5, 4, 3]\n",
    "}\n",
    "\n",
    "# Create a DataFrame\n",
    "df = pd.DataFrame(data)\n",
    "\n",
    "# Create a user-item matrix\n",
    "user_item_matrix = df.pivot_table(index='User', columns='Item', values='Rating').fillna(0)\n",
    "\n",
    "# Compute user similarity using cosine similarity\n",
    "user_similarity = cosine_similarity(user_item_matrix)\n",
    "user_similarity_df = pd.DataFrame(user_similarity, index=user_item_matrix.index, columns=user_item_matrix.index)\n",
    "\n",
    "# Recommendation function\n",
    "def recommend_items(user, num_recommendations=3):\n",
    "    # Get user's ratings\n",
    "    user_ratings = user_item_matrix.loc[user]\n",
    "\n",
    "    # Get similarity scores for the user\n",
    "    similar_users = user_similarity_df[user].sort_values(ascending=False)\n",
    "\n",
    "    # Weighted ratings for recommendation\n",
    "    weighted_ratings = pd.Series()\n",
    "\n",
    "    for similar_user, score in similar_users.items():\n",
    "        if similar_user == user:\n",
    "            continue  # Skip the current user\n",
    "        # Add weighted ratings from similar users\n",
    "        weighted_ratings = weighted_ratings.add(user_item_matrix.loc[similar_user] * score, fill_value=0)\n",
    "\n",
    "    # Normalize the weighted ratings\n",
    "    recommendations = weighted_ratings / similar_users.sum()\n",
    "\n",
    "    # Exclude items already rated by the user\n",
    "    recommendations = recommendations[user_ratings[user_ratings > 0].index]\n",
    "\n",
    "    # Return the top recommended items\n",
    "    return recommendations.sort_values(ascending=False).head(num_recommendations)\n",
    "\n",
    "# Example usage\n",
    "if __name__ == \"__main__\":\n",
    "    user = 'Alice'\n",
    "    print(f\"Recommendations for {user}:\")\n",
    "    print(recommend_items(user))\n"
   ]
  },
  {
   "cell_type": "code",
   "execution_count": null,
   "id": "c655d040-99ec-4ebf-a57a-639730f4460a",
   "metadata": {},
   "outputs": [],
   "source": []
  }
 ],
 "metadata": {
  "kernelspec": {
   "display_name": "Python 3 (ipykernel)",
   "language": "python",
   "name": "python3"
  },
  "language_info": {
   "codemirror_mode": {
    "name": "ipython",
    "version": 3
   },
   "file_extension": ".py",
   "mimetype": "text/x-python",
   "name": "python",
   "nbconvert_exporter": "python",
   "pygments_lexer": "ipython3",
   "version": "3.12.4"
  }
 },
 "nbformat": 4,
 "nbformat_minor": 5
}
