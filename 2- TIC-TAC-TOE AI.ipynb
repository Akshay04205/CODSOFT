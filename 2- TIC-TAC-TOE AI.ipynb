{
 "cells": [
  {
   "cell_type": "code",
   "execution_count": 10,
   "id": "628e1268-4ee1-4722-93d3-5a81f38007de",
   "metadata": {},
   "outputs": [
    {
     "name": "stdout",
     "output_type": "stream",
     "text": [
      "\n",
      "  0   1   2\n",
      "0   |   |   \n",
      "  -----------\n",
      "1   |   |   \n",
      "  -----------\n",
      "2   |   |   \n",
      "\n"
     ]
    },
    {
     "name": "stdin",
     "output_type": "stream",
     "text": [
      "Enter your move (row and column):  0 0 \n"
     ]
    },
    {
     "name": "stdout",
     "output_type": "stream",
     "text": [
      "\n",
      "  0   1   2\n",
      "0 O |   |   \n",
      "  -----------\n",
      "1   | X |   \n",
      "  -----------\n",
      "2   |   |   \n",
      "\n"
     ]
    },
    {
     "name": "stdin",
     "output_type": "stream",
     "text": [
      "Enter your move (row and column):  0 1\n"
     ]
    },
    {
     "name": "stdout",
     "output_type": "stream",
     "text": [
      "\n",
      "  0   1   2\n",
      "0 O | O | X \n",
      "  -----------\n",
      "1   | X |   \n",
      "  -----------\n",
      "2   |   |   \n",
      "\n"
     ]
    },
    {
     "name": "stdin",
     "output_type": "stream",
     "text": [
      "Enter your move (row and column):  0 2\n"
     ]
    },
    {
     "name": "stdout",
     "output_type": "stream",
     "text": [
      "Invalid move. Try again.\n",
      "\n",
      "  0   1   2\n",
      "0 O | O | X \n",
      "  -----------\n",
      "1   | X |   \n",
      "  -----------\n",
      "2   |   |   \n",
      "\n"
     ]
    },
    {
     "name": "stdin",
     "output_type": "stream",
     "text": [
      "Enter your move (row and column):  1 2\n"
     ]
    },
    {
     "name": "stdout",
     "output_type": "stream",
     "text": [
      "\n",
      "  0   1   2\n",
      "0 O | O | X \n",
      "  -----------\n",
      "1   | X | O \n",
      "  -----------\n",
      "2 X |   |   \n",
      "\n",
      "Winner is AI!\n"
     ]
    }
   ],
   "source": [
    "# Initialize the board\n",
    "def create_board():\n",
    "    return [[\" \" for _ in range(3)] for _ in range(3)]\n",
    "\n",
    "# Display the board with better formatting\n",
    "def print_board(board):\n",
    "    print(\"\\n  0   1   2\")\n",
    "    for i, row in enumerate(board):\n",
    "        print(f\"{i} {' | '.join(row)} \")\n",
    "        if i < 2:\n",
    "            print(\"  -----------\")\n",
    "    print()\n",
    "\n",
    "# Check for a winner\n",
    "def check_winner(board):\n",
    "    # Rows, columns, and diagonals\n",
    "    for row in board:\n",
    "        if row[0] == row[1] == row[2] and row[0] != \" \":\n",
    "            return row[0]\n",
    "    for col in range(3):\n",
    "        if board[0][col] == board[1][col] == board[2][col] and board[0][col] != \" \":\n",
    "            return board[0][col]\n",
    "    if board[0][0] == board[1][1] == board[2][2] and board[0][0] != \" \":\n",
    "        return board[0][0]\n",
    "    if board[0][2] == board[1][1] == board[2][0] and board[0][2] != \" \":\n",
    "        return board[0][2]\n",
    "    return None\n",
    "\n",
    "# Check if the board is full\n",
    "def is_draw(board):\n",
    "    return all(cell != \" \" for row in board for cell in row)\n",
    "\n",
    "# Minimax algorithm\n",
    "def minimax(board, depth, is_maximizing):\n",
    "    winner = check_winner(board)\n",
    "    if winner == \"X\":\n",
    "        return 1\n",
    "    elif winner == \"O\":\n",
    "        return -1\n",
    "    elif is_draw(board):\n",
    "        return 0\n",
    "\n",
    "    if is_maximizing:\n",
    "        best_score = -float(\"inf\")\n",
    "        for i in range(3):\n",
    "            for j in range(3):\n",
    "                if board[i][j] == \" \":\n",
    "                    board[i][j] = \"X\"\n",
    "                    score = minimax(board, depth + 1, False)\n",
    "                    board[i][j] = \" \"\n",
    "                    best_score = max(best_score, score)\n",
    "        return best_score\n",
    "    else:\n",
    "        best_score = float(\"inf\")\n",
    "        for i in range(3):\n",
    "            for j in range(3):\n",
    "                if board[i][j] == \" \":\n",
    "                    board[i][j] = \"O\"\n",
    "                    score = minimax(board, depth + 1, True)\n",
    "                    board[i][j] = \" \"\n",
    "                    best_score = min(best_score, score)\n",
    "        return best_score\n",
    "\n",
    "# Find the best move for AI\n",
    "def best_move(board):\n",
    "    best_score = -float(\"inf\")\n",
    "    move = None\n",
    "    for i in range(3):\n",
    "        for j in range(3):\n",
    "            if board[i][j] == \" \":\n",
    "                board[i][j] = \"X\"\n",
    "                score = minimax(board, 0, False)\n",
    "                board[i][j] = \" \"\n",
    "                if score > best_score:\n",
    "                    best_score = score\n",
    "                    move = (i, j)\n",
    "    return move\n",
    "\n",
    "# Main game loop\n",
    "def play_game():\n",
    "    board = create_board()\n",
    "    while True:\n",
    "        print_board(board)\n",
    "        winner = check_winner(board)\n",
    "        if winner:\n",
    "            if winner == \"X\":\n",
    "                print(\"Winner is AI!\")\n",
    "            elif winner == \"O\":\n",
    "                print(\"Winner is Good Human!\")\n",
    "            break\n",
    "        if is_draw(board):\n",
    "            print(\"It's a draw!\")\n",
    "            break\n",
    "\n",
    "        # Good Human move\n",
    "        try:\n",
    "            row, col = map(int, input(\"Enter your move (row and column): \").split())\n",
    "            if board[row][col] == \" \":\n",
    "                board[row][col] = \"O\"\n",
    "            else:\n",
    "                print(\"Invalid move. Try again.\")\n",
    "                continue\n",
    "        except ValueError:\n",
    "            print(\"Invalid input! Please enter row and column as numbers.\")\n",
    "            continue\n",
    "\n",
    "        # AI move\n",
    "        move = best_move(board)\n",
    "        if move:\n",
    "            board[move[0]][move[1]] = \"X\"\n",
    "\n",
    "# Start the game\n",
    "if __name__ == \"__main__\":\n",
    "    play_game()\n"
   ]
  },
  {
   "cell_type": "code",
   "execution_count": null,
   "id": "adbbd07b-828b-40cb-9388-86609a540e00",
   "metadata": {},
   "outputs": [],
   "source": []
  }
 ],
 "metadata": {
  "kernelspec": {
   "display_name": "Python 3 (ipykernel)",
   "language": "python",
   "name": "python3"
  },
  "language_info": {
   "codemirror_mode": {
    "name": "ipython",
    "version": 3
   },
   "file_extension": ".py",
   "mimetype": "text/x-python",
   "name": "python",
   "nbconvert_exporter": "python",
   "pygments_lexer": "ipython3",
   "version": "3.12.4"
  }
 },
 "nbformat": 4,
 "nbformat_minor": 5
}
